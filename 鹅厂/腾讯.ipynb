{
 "cells": [
  {
   "cell_type": "code",
   "execution_count": 1,
   "metadata": {},
   "outputs": [],
   "source": [
    "import pandas as pd\n",
    "import numpy as np"
   ]
  },
  {
   "cell_type": "markdown",
   "metadata": {},
   "source": [
    "## 鹅厂 精选50题"
   ]
  },
  {
   "cell_type": "markdown",
   "metadata": {},
   "source": [
    "### 5. Longest Palindromic Substring\n",
    "\n",
    "给定一个字符串 s，找到 s 中最长的回文子串。你可以假设 s 的最大长度为 1000。\n",
    "\n"
   ]
  },
  {
   "cell_type": "code",
   "execution_count": 139,
   "metadata": {},
   "outputs": [
    {
     "data": {
      "text/plain": [
       "[[0, 0, 0, 0, 0, 0],\n",
       " [0, 0, 0, 0, 0, 0],\n",
       " [0, 0, 0, 0, 0, 0],\n",
       " [0, 0, 0, 0, 0, 0],\n",
       " [0, 0, 0, 0, 0, 0],\n",
       " [0, 0, 0, 0, 0, 0]]"
      ]
     },
     "execution_count": 139,
     "metadata": {},
     "output_type": "execute_result"
    }
   ],
   "source": [
    "[[0]*6 for _ in range(6)]"
   ]
  },
  {
   "cell_type": "code",
   "execution_count": 217,
   "metadata": {},
   "outputs": [],
   "source": [
    "def longestPalindrome(s):\n",
    "    if len(s)==0:\n",
    "        return ''\n",
    "    elif len(s)==1:\n",
    "        return s\n",
    "    result=[]\n",
    "    n = len(s)\n",
    "    dp=[[0]*n for i in range(n)]\n",
    "    for i in range(n):\n",
    "        dp[i][i]=True\n",
    "    result.append(s[0][0])\n",
    "    \n",
    "    for i in range(n-1):\n",
    "        if s[i]==s[i+1]:\n",
    "            dp[i][i+1]=True\n",
    "            result.append(s[i:i+2])\n",
    "        else:\n",
    "            dp[i][i+1]=False\n",
    "            \n",
    "    \n",
    "    for maxdiff in range(2,n):##2 3 4 \n",
    "        for start in range(0,n-maxdiff):#0 1 2\n",
    "            if s[start]==s[start+maxdiff] and dp[start+1][start+maxdiff-1]==True:\n",
    "                dp[start][start+maxdiff]=True\n",
    "                result.append(s[start:start+maxdiff+1])\n",
    "            \n",
    "            else:\n",
    "                dp[start][start+maxdiff]=False\n",
    "#     return result\n",
    "    return max(result,key=len)\n",
    "     \n"
   ]
  },
  {
   "cell_type": "code",
   "execution_count": 218,
   "metadata": {},
   "outputs": [
    {
     "data": {
      "text/plain": [
       "'bb'"
      ]
     },
     "execution_count": 218,
     "metadata": {},
     "output_type": "execute_result"
    }
   ],
   "source": [
    "s=\"cbbd\"\n",
    "longestPalindrome(s)"
   ]
  },
  {
   "cell_type": "markdown",
   "metadata": {},
   "source": [
    "7. Reverse Integer\n",
    "\n",
    "注意反转之后的溢出"
   ]
  },
  {
   "cell_type": "code",
   "execution_count": 136,
   "metadata": {},
   "outputs": [
    {
     "data": {
      "text/plain": [
       "321"
      ]
     },
     "execution_count": 136,
     "metadata": {},
     "output_type": "execute_result"
    }
   ],
   "source": [
    " def reverse(x):\n",
    "        \"\"\"\n",
    "        :type x: int\n",
    "        :rtype: int\n",
    "        \"\"\"\n",
    "        \n",
    "        \n",
    "        if x<0:\n",
    "            s=-int(str(-x)[::-1])\n",
    "            if s<-pow(2,31):\n",
    "                return 0\n",
    "            else:\n",
    "                return s\n",
    "            \n",
    "        else:\n",
    "            s=int(str(x)[::-1])\n",
    "            if s>pow(2,31)-1:\n",
    "                return 0\n",
    "            else:\n",
    "                return s\n",
    "            \n",
    "\n",
    "x=123\n",
    "reverse(x)\n",
    "      "
   ]
  },
  {
   "cell_type": "markdown",
   "metadata": {},
   "source": [
    "9. Palindrome Number"
   ]
  },
  {
   "cell_type": "code",
   "execution_count": 129,
   "metadata": {},
   "outputs": [],
   "source": [
    "def isPalindrome(self, x):\n",
    "        \"\"\"\n",
    "        :type x: int\n",
    "        :rtype: bool\n",
    "        \"\"\"\n",
    "        if x<0:\n",
    "            return False\n",
    "        elif x==0:\n",
    "            return True\n",
    "        else:\n",
    "            return str(x)[::-1]==str(x)"
   ]
  },
  {
   "cell_type": "markdown",
   "metadata": {},
   "source": [
    "14. Longest Common Prefix\n"
   ]
  },
  {
   "cell_type": "code",
   "execution_count": 132,
   "metadata": {},
   "outputs": [],
   "source": [
    "def longestCommonPrefix(strs):\n",
    "        \"\"\"\n",
    "        :type strs: List[str]\n",
    "        :rtype: str\n",
    "        \"\"\"\n",
    "        if not strs:\n",
    "            return \"\"\n",
    "        \n",
    "        short=min(strs,key=len)##找出最短的单词\n",
    "        for i,item in enumerate(short):\n",
    "            for string in strs:#对这个单词从头看，如果第i个字母和后面的每一个单词的i个字母不同，返回前i个字母组合\n",
    "                if item!=string[i]:\n",
    "                    return short[:i]\n",
    "                \n",
    "        return short"
   ]
  },
  {
   "cell_type": "code",
   "execution_count": 133,
   "metadata": {},
   "outputs": [
    {
     "data": {
      "text/plain": [
       "'fl'"
      ]
     },
     "execution_count": 133,
     "metadata": {},
     "output_type": "execute_result"
    }
   ],
   "source": [
    "strs=[\"flower\",\"flow\",\"flight\"]\n",
    "longestCommonPrefix(strs)"
   ]
  },
  {
   "cell_type": "code",
   "execution_count": 135,
   "metadata": {},
   "outputs": [
    {
     "data": {
      "text/plain": [
       "'flow'"
      ]
     },
     "execution_count": 135,
     "metadata": {},
     "output_type": "execute_result"
    }
   ],
   "source": [
    "short=min(strs,key=len)\n",
    "short\n"
   ]
  },
  {
   "cell_type": "markdown",
   "metadata": {},
   "source": [
    "20. Valid Parentheses"
   ]
  },
  {
   "cell_type": "code",
   "execution_count": 142,
   "metadata": {},
   "outputs": [
    {
     "data": {
      "text/plain": [
       "False"
      ]
     },
     "execution_count": 142,
     "metadata": {},
     "output_type": "execute_result"
    }
   ],
   "source": [
    "def isValid(s):\n",
    "        \"\"\"\n",
    "        :type s: str\n",
    "        :rtype: bool\n",
    "        \"\"\"\n",
    "        while '{}' in s or '()' in s or '[]' in s:\n",
    "            s=s.replace('{}','').replace('[]','').replace('()','')\n",
    "        return s==''\n",
    "            \n",
    "    \n",
    "s=\"()[]{]}\"\n",
    "isValid(s)"
   ]
  },
  {
   "cell_type": "markdown",
   "metadata": {},
   "source": [
    "21. Merge Two Sorted Lists\n"
   ]
  },
  {
   "cell_type": "markdown",
   "metadata": {},
   "source": [
    "26. Remove Duplicates from Sorted Array\n",
    "\n",
    "Do not allocate extra space for another array, you must do this by modifying the input array in-place with O(1) extra memory.\n",
    "\n"
   ]
  },
  {
   "cell_type": "code",
   "execution_count": 20,
   "metadata": {},
   "outputs": [],
   "source": [
    "nums = [0,0,1,1,1,2,2,3,3,4]"
   ]
  },
  {
   "cell_type": "code",
   "execution_count": 22,
   "metadata": {},
   "outputs": [
    {
     "data": {
      "text/plain": [
       "5"
      ]
     },
     "execution_count": 22,
     "metadata": {},
     "output_type": "execute_result"
    }
   ],
   "source": [
    "def removeDuplicates(nums):\n",
    "        \"\"\"\n",
    "        :type nums: List[int]\n",
    "        :rtype: int\n",
    "        \"\"\"\n",
    "        count=1\n",
    "        for i in range(1,len(nums)):\n",
    "            if nums[i]!=nums[i-1]:\n",
    "                nums[count]=nums[i]\n",
    "                count+=1\n",
    "                \n",
    "                \n",
    "        del nums[count:]\n",
    "        return count\n",
    "    \n",
    "removeDuplicates(nums)"
   ]
  },
  {
   "cell_type": "markdown",
   "metadata": {},
   "source": [
    "53. Maximum Subarray"
   ]
  },
  {
   "cell_type": "code",
   "execution_count": 23,
   "metadata": {},
   "outputs": [],
   "source": [
    "nums=[-2,1,-3,4,-1,2,1,-5,4]"
   ]
  },
  {
   "cell_type": "code",
   "execution_count": 25,
   "metadata": {},
   "outputs": [
    {
     "data": {
      "text/plain": [
       "6"
      ]
     },
     "execution_count": 25,
     "metadata": {},
     "output_type": "execute_result"
    }
   ],
   "source": [
    "def maxSubArray(nums):\n",
    "        \"\"\"\n",
    "        :type nums: List[int]\n",
    "        :rtype: int\n",
    "        \"\"\"\n",
    "        for i in range(1,len(nums)):\n",
    "            nums[i]=max(nums[i],nums[i]+nums[i-1])\n",
    "        return max(nums)\n",
    "maxSubArray(nums)       "
   ]
  },
  {
   "cell_type": "markdown",
   "metadata": {},
   "source": [
    "70. Climbing Stairs\n",
    "\n",
    "You are climbing a stair case. It takes n steps to reach to the top.\n",
    "\n",
    "Each time you can either climb 1 or 2 steps. In how many distinct ways can you climb to the top?"
   ]
  },
  {
   "cell_type": "code",
   "execution_count": 50,
   "metadata": {},
   "outputs": [],
   "source": [
    "def climbStairs(n):\n",
    "        \"\"\"\n",
    "        :type n: int\n",
    "        :rtype: int\n",
    "        \"\"\"\n",
    "        fib=[0,1,2]\n",
    "        def fun(x):\n",
    "            for i in range(3,x+1):\n",
    "                fib.append(fib[i-1]+fib[i-2])\n",
    "            return fib[x]\n",
    "            \n",
    "        if n==1:\n",
    "            return 1\n",
    "        elif n==2:\n",
    "            return 2\n",
    "        else:\n",
    "            return fun(n)"
   ]
  },
  {
   "cell_type": "code",
   "execution_count": 51,
   "metadata": {},
   "outputs": [
    {
     "data": {
      "text/plain": [
       "8"
      ]
     },
     "execution_count": 51,
     "metadata": {},
     "output_type": "execute_result"
    }
   ],
   "source": [
    "climbStairs(5)"
   ]
  },
  {
   "cell_type": "markdown",
   "metadata": {},
   "source": [
    "21 Merge Two Sorted Lists   "
   ]
  },
  {
   "cell_type": "markdown",
   "metadata": {},
   "source": [
    "88\tMerge Sorted Array  "
   ]
  },
  {
   "cell_type": "markdown",
   "metadata": {},
   "source": [
    "104\tMaximum Depth of Binary Tree"
   ]
  },
  {
   "cell_type": "markdown",
   "metadata": {},
   "source": [
    "121\tBest Time to Buy and Sell Stock    "
   ]
  },
  {
   "cell_type": "code",
   "execution_count": 54,
   "metadata": {},
   "outputs": [],
   "source": [
    "def maxProfit(prices):\n",
    "        \"\"\"\n",
    "        :type prices: List[int]\n",
    "        :rtype: int\n",
    "        \"\"\"\n",
    "        if prices is None:\n",
    "            return 0\n",
    "        least,best=prices[0],0\n",
    "        for num in prices:\n",
    "            least=min(least,num)\n",
    "            best=max(best,num-least)\n",
    "            \n",
    "        return best"
   ]
  },
  {
   "cell_type": "code",
   "execution_count": 55,
   "metadata": {},
   "outputs": [
    {
     "data": {
      "text/plain": [
       "5"
      ]
     },
     "execution_count": 55,
     "metadata": {},
     "output_type": "execute_result"
    }
   ],
   "source": [
    "prices=[7,1,5,3,6,4]\n",
    "maxProfit(prices)"
   ]
  },
  {
   "cell_type": "markdown",
   "metadata": {},
   "source": [
    "122\t Best Time to Buy and Sell Stock II    "
   ]
  },
  {
   "cell_type": "code",
   "execution_count": 60,
   "metadata": {},
   "outputs": [
    {
     "data": {
      "text/plain": [
       "4"
      ]
     },
     "execution_count": 60,
     "metadata": {},
     "output_type": "execute_result"
    }
   ],
   "source": [
    "def maxprofit(prices):\n",
    "    if not prices:\n",
    "        return 0\n",
    "    else:\n",
    "        return sum([max(prices[i]-prices[i-1],0) for i in range(1,len(prices))])\n",
    "prices=[1,2,3,4,5]\n",
    "maxprofit(prices)\n",
    "    "
   ]
  },
  {
   "cell_type": "markdown",
   "metadata": {},
   "source": [
    "136. Single Number"
   ]
  },
  {
   "cell_type": "code",
   "execution_count": 66,
   "metadata": {},
   "outputs": [],
   "source": [
    "def single(nums):\n",
    "    return 2*sum(list(set(nums)))-sum(nums)"
   ]
  },
  {
   "cell_type": "code",
   "execution_count": 67,
   "metadata": {},
   "outputs": [
    {
     "data": {
      "text/plain": [
       "4"
      ]
     },
     "execution_count": 67,
     "metadata": {},
     "output_type": "execute_result"
    }
   ],
   "source": [
    "nums=[4,1,2,1,2]\n",
    "single(nums)"
   ]
  },
  {
   "cell_type": "markdown",
   "metadata": {},
   "source": [
    "141\tLinked List Cycle   "
   ]
  },
  {
   "cell_type": "markdown",
   "metadata": {},
   "source": [
    "155\tMin Stack    "
   ]
  },
  {
   "cell_type": "markdown",
   "metadata": {},
   "source": [
    "160\tIntersection of Two Linked Lists    "
   ]
  },
  {
   "cell_type": "markdown",
   "metadata": {},
   "source": [
    "169. Majority Element"
   ]
  },
  {
   "cell_type": "code",
   "execution_count": 68,
   "metadata": {},
   "outputs": [],
   "source": [
    "def maj(nums):\n",
    "    nums.sort()\n",
    "    return nums[len(nums)//2]"
   ]
  },
  {
   "cell_type": "code",
   "execution_count": 72,
   "metadata": {},
   "outputs": [
    {
     "data": {
      "text/plain": [
       "3"
      ]
     },
     "execution_count": 72,
     "metadata": {},
     "output_type": "execute_result"
    }
   ],
   "source": [
    "nums=[3,2,3]\n",
    "maj(nums)"
   ]
  },
  {
   "cell_type": "markdown",
   "metadata": {},
   "source": [
    "206\tReverse Linked List    "
   ]
  },
  {
   "cell_type": "markdown",
   "metadata": {},
   "source": [
    "217\tContains Duplicate    "
   ]
  },
  {
   "cell_type": "code",
   "execution_count": 80,
   "metadata": {},
   "outputs": [],
   "source": [
    "s=[1,2,3,2]\n",
    "def containsDuplicate(self, nums):\n",
    "        \"\"\"\n",
    "        :type nums: List[int]\n",
    "        :rtype: bool\n",
    "        \"\"\"\n",
    "        return  len(set(nums))!=len(nums)"
   ]
  },
  {
   "cell_type": "markdown",
   "metadata": {},
   "source": [
    "231\tPower of Two   "
   ]
  },
  {
   "cell_type": "code",
   "execution_count": 108,
   "metadata": {},
   "outputs": [],
   "source": [
    "def power(n):\n",
    "    if n%2==1:\n",
    "        return False\n",
    "    while n!=1:\n",
    "        n=n/2\n",
    "        if n%2==1 and n!=1:\n",
    "            return False\n",
    "    return True\n",
    "\n"
   ]
  },
  {
   "cell_type": "code",
   "execution_count": 109,
   "metadata": {},
   "outputs": [
    {
     "data": {
      "text/plain": [
       "False"
      ]
     },
     "execution_count": 109,
     "metadata": {},
     "output_type": "execute_result"
    }
   ],
   "source": [
    "power(3)"
   ]
  },
  {
   "cell_type": "markdown",
   "metadata": {},
   "source": [
    "235\tLowest Common Ancestor of a Binary Search Tree   "
   ]
  },
  {
   "cell_type": "markdown",
   "metadata": {},
   "source": [
    "237\tDelete Node in a Linked List    "
   ]
  },
  {
   "cell_type": "markdown",
   "metadata": {},
   "source": [
    "292\tNim Game    "
   ]
  },
  {
   "cell_type": "markdown",
   "metadata": {},
   "source": [
    "344\tReverse String    "
   ]
  },
  {
   "cell_type": "code",
   "execution_count": 117,
   "metadata": {},
   "outputs": [],
   "source": [
    "def rev(s):\n",
    "    a=list(''.join(s)[::-1])\n",
    "    for i in range(len(a)):\n",
    "        s[i]=a[i]"
   ]
  },
  {
   "cell_type": "markdown",
   "metadata": {},
   "source": [
    "557\tReverse Words in a String III   "
   ]
  },
  {
   "cell_type": "code",
   "execution_count": 133,
   "metadata": {},
   "outputs": [],
   "source": [
    "def reverseWords(s):\n",
    "        \"\"\"\n",
    "        :type s: str\n",
    "        :rtype: str\n",
    "        \"\"\"\n",
    "        result=[]\n",
    "        for item in s.split():\n",
    "            result.append(item[::-1])\n",
    "        return \" \".join(map(str, result))\n"
   ]
  },
  {
   "cell_type": "code",
   "execution_count": 134,
   "metadata": {},
   "outputs": [
    {
     "data": {
      "text/plain": [
       "\"s'teL ekat edoCteeL tsetnoc\""
      ]
     },
     "execution_count": 134,
     "metadata": {},
     "output_type": "execute_result"
    }
   ],
   "source": [
    "s=\"Let's take LeetCode contest\"\n",
    "reverseWords(s)"
   ]
  },
  {
   "cell_type": "markdown",
   "metadata": {},
   "source": [
    "2\tAdd Two Numbers    "
   ]
  },
  {
   "cell_type": "markdown",
   "metadata": {},
   "source": [
    "8. String to Integer (atoi)\n"
   ]
  },
  {
   "cell_type": "code",
   "execution_count": 222,
   "metadata": {},
   "outputs": [
    {
     "data": {
      "text/plain": [
       "[True, True]"
      ]
     },
     "execution_count": 222,
     "metadata": {},
     "output_type": "execute_result"
    }
   ],
   "source": [
    "a='12'\n",
    "[i.isnumeric() for i in a]"
   ]
  },
  {
   "cell_type": "markdown",
   "metadata": {},
   "source": [
    "11\tContainer With Most Water\n",
    "\n",
    "O(n2)"
   ]
  },
  {
   "cell_type": "code",
   "execution_count": 252,
   "metadata": {},
   "outputs": [],
   "source": [
    "def container(s):\n",
    "    result=[]\n",
    "    for i in range(len(s)):\n",
    "        for j in range(i+1,len(s)):\n",
    "            height=min(s[i],s[j])\n",
    "            result.append((j-i)*height)\n",
    "    return max(result)\n"
   ]
  },
  {
   "cell_type": "code",
   "execution_count": 261,
   "metadata": {},
   "outputs": [],
   "source": [
    "s=[1,8,6,2,5,4,8,3,7]\n",
    "# container(s)"
   ]
  },
  {
   "cell_type": "code",
   "execution_count": 264,
   "metadata": {},
   "outputs": [],
   "source": [
    "def container(s):\n",
    "    area,left,right=0,0,len(s)-1\n",
    "    while left<right:\n",
    "        area=max(area,min(s[right],s[left])*(right-left))\n",
    "        if s[left]<s[right]:\n",
    "            left+=1\n",
    "        else:\n",
    "            right-=1\n",
    "\n",
    "    return area"
   ]
  },
  {
   "cell_type": "code",
   "execution_count": 265,
   "metadata": {},
   "outputs": [
    {
     "data": {
      "text/plain": [
       "49"
      ]
     },
     "execution_count": 265,
     "metadata": {},
     "output_type": "execute_result"
    }
   ],
   "source": [
    "container(s)"
   ]
  },
  {
   "cell_type": "markdown",
   "metadata": {},
   "source": [
    "15\t3Sum    \n",
    "对原数组进行排序，然后开始遍历排序后的数组，这里注意不是遍历到最后一个停止，而是到倒数第三个就可以了。这里可以先做个剪枝优化，就是当遍历到正数的时候就 break，为啥呢，因为数组现在是有序的了，如果第一个要 fix 的数就是正数了，则后面的数字就都是正数，就永远不会出现和为0的情况了。然后还要加上重复就跳过的处理，处理方法是从第二个数开始，如果和前面的数字相等，就跳过，因为不想把相同的数字fix两次。对于遍历到的数，用0减去这个 fix 的数得到一个 target，然后只需要再之后找到两个数之和等于 target 即可。用两个指针分别指向 fix 数字之后开始的数组首尾两个数，如果两个数和正好为 target，则将这两个数和 fix 的数一起存入结果中。然后就是跳过重复数字的步骤了，两个指针都需要检测重复数字。如果两数之和小于 target，则将左边那个指针i右移一位，使得指向的数字增大一些。同理，如果两数之和大于 target，则将右边那个指针j左移一位，使得指向的数字减小一些，代码如下："
   ]
  },
  {
   "cell_type": "code",
   "execution_count": 6,
   "metadata": {},
   "outputs": [],
   "source": [
    "def sum(nums):\n",
    "    res=[]\n",
    "    for i in range(len(nums)-2):\n",
    "        if nums[i-1]==nums[i] and i>0:\n",
    "            continue\n",
    "        l,r=i+1,len(nums)-1\n",
    "        while l<r:\n",
    "            s=nums[i]+nums[l]+nums[r]\n",
    "            if s>0:\n",
    "                r-=1\n",
    "            elif s<0:\n",
    "                l+=1\n",
    "            else:\n",
    "                res.append((nums[i],nums[l],nums[r]))\n",
    "                while l<r and nums[l]==nums[l+1]:\n",
    "                    l+=1\n",
    "                while l<r and nums[r]==nums[r-1]:\n",
    "                    r-=1\n",
    "                l+=1;\n",
    "                r-=1\n",
    "        return res"
   ]
  },
  {
   "cell_type": "code",
   "execution_count": 7,
   "metadata": {},
   "outputs": [
    {
     "data": {
      "text/plain": [
       "[(-1, -1, 2), (-1, 0, 1)]"
      ]
     },
     "execution_count": 7,
     "metadata": {},
     "output_type": "execute_result"
    }
   ],
   "source": [
    "nums = [-1, 0, 1, 2, -1, -4]\n",
    "sum3(nums)"
   ]
  },
  {
   "cell_type": "markdown",
   "metadata": {},
   "source": [
    "16\t3Sum Closest    "
   ]
  },
  {
   "cell_type": "code",
   "execution_count": 9,
   "metadata": {},
   "outputs": [],
   "source": [
    "def sum2(nums,target):\n",
    "    nums.sort()#先排序\n",
    "    best=nums[0]+nums[1]+nums[2]#最小和\n",
    "    for i in range(len(nums)-2):\n",
    "        l,r=i+1,len(nums)-1\n",
    "        while l<r:\n",
    "            now=nums[l]+nums[r]+nums[i]\n",
    "            if now==target:\n",
    "                return now\n",
    "            if abs(best-target)>abs(now-target):\n",
    "                best=now\n",
    "            if now<target:\n",
    "                l+=1\n",
    "            elif now>target:\n",
    "                r-=1\n",
    "    return best\n",
    "                "
   ]
  },
  {
   "cell_type": "code",
   "execution_count": 10,
   "metadata": {},
   "outputs": [
    {
     "data": {
      "text/plain": [
       "2"
      ]
     },
     "execution_count": 10,
     "metadata": {},
     "output_type": "execute_result"
    }
   ],
   "source": [
    "nums = [-1, 2, 1, -4]\n",
    "target=2\n",
    "sum2(nums,target)"
   ]
  },
  {
   "cell_type": "markdown",
   "metadata": {},
   "source": [
    "2\tAdd Two Numbers   "
   ]
  },
  {
   "cell_type": "code",
   "execution_count": null,
   "metadata": {},
   "outputs": [],
   "source": []
  },
  {
   "cell_type": "markdown",
   "metadata": {},
   "source": [
    "89\tGray Code    ??"
   ]
  },
  {
   "cell_type": "code",
   "execution_count": 19,
   "metadata": {},
   "outputs": [],
   "source": [
    "def gray(n):\n",
    "    ans = [0]\n",
    "    for i in range(n):\n",
    "        for j in range(len(ans) - 1, -1, -1):#从大到小\n",
    "            ans.append(1 << i | ans[j])\n",
    "    return ans"
   ]
  },
  {
   "cell_type": "code",
   "execution_count": 20,
   "metadata": {},
   "outputs": [
    {
     "data": {
      "text/plain": [
       "[0, 1, 3, 2]"
      ]
     },
     "execution_count": 20,
     "metadata": {},
     "output_type": "execute_result"
    }
   ],
   "source": [
    "gray(2)"
   ]
  },
  {
   "cell_type": "markdown",
   "metadata": {},
   "source": [
    "215\t Kth Largest Element in an Array   "
   ]
  },
  {
   "cell_type": "code",
   "execution_count": 31,
   "metadata": {},
   "outputs": [
    {
     "data": {
      "text/plain": [
       "4"
      ]
     },
     "execution_count": 31,
     "metadata": {},
     "output_type": "execute_result"
    }
   ],
   "source": [
    "nums=[3,2,3,1,2,4,5,5,6]\n",
    "def findKthLargest(nums, k):\n",
    "        \"\"\"\n",
    "        :type nums: List[int]\n",
    "        :type k: int\n",
    "        :rtype: int\n",
    "        \"\"\"\n",
    "        nums.sort()\n",
    "        return nums[::-1][k-1]\n",
    "findKthLargest(nums, 4)"
   ]
  },
  {
   "cell_type": "markdown",
   "metadata": {},
   "source": [
    "230\tKth Smallest Element in a BST   "
   ]
  },
  {
   "cell_type": "markdown",
   "metadata": {},
   "source": [
    "\n",
    "146\tLRU Cache    "
   ]
  },
  {
   "cell_type": "markdown",
   "metadata": {},
   "source": [
    "142\tLinked List Cycle II    "
   ]
  },
  {
   "cell_type": "markdown",
   "metadata": {},
   "source": [
    "236\tLowest Common Ancestor of a Binary Tree "
   ]
  },
  {
   "cell_type": "markdown",
   "metadata": {},
   "source": [
    "43\tMultiply Strings    "
   ]
  },
  {
   "cell_type": "code",
   "execution_count": 34,
   "metadata": {},
   "outputs": [
    {
     "data": {
      "text/plain": [
       "'6'"
      ]
     },
     "execution_count": 34,
     "metadata": {},
     "output_type": "execute_result"
    }
   ],
   "source": [
    "num1 = \"2\"\n",
    "num2 = \"3\"\n",
    "def multiply(num1,num2):\n",
    "    num=int(num1)*int(num2)\n",
    "    a=str(num)\n",
    "    return a\n",
    "multiply(num1,num2)"
   ]
  },
  {
   "cell_type": "markdown",
   "metadata": {},
   "source": [
    "46\tPermutations    "
   ]
  },
  {
   "cell_type": "code",
   "execution_count": 36,
   "metadata": {},
   "outputs": [],
   "source": [
    "def permute(nums):\n",
    "        \"\"\"\n",
    "        :type nums: List[int]\n",
    "        :rtype: List[List[int]]\n",
    "        \"\"\"\n",
    "        \n",
    "        "
   ]
  },
  {
   "cell_type": "code",
   "execution_count": 43,
   "metadata": {},
   "outputs": [],
   "source": [
    "nums=[1,2,3]\n",
    "\n",
    "def permute(nums):\n",
    "    ans = [nums]\n",
    "    for i in range(1, len(nums)):\n",
    "        m = len(ans)\n",
    "        for k in range(m):\n",
    "            print(k)\n",
    "            for j in range(i):\n",
    "                print(j)\n",
    "                ans.append(ans[k][:])\n",
    "                print(ans[k][:])\n",
    "                ans[-1][j], ans[-1][i] = ans[-1][i], ans[-1][j]\n",
    "                \n",
    "    return ans\n"
   ]
  },
  {
   "cell_type": "code",
   "execution_count": 44,
   "metadata": {},
   "outputs": [
    {
     "name": "stdout",
     "output_type": "stream",
     "text": [
      "0\n",
      "0\n",
      "[1, 2, 3]\n",
      "0\n",
      "0\n",
      "[1, 2, 3]\n",
      "1\n",
      "[1, 2, 3]\n",
      "1\n",
      "0\n",
      "[2, 1, 3]\n",
      "1\n",
      "[2, 1, 3]\n"
     ]
    },
    {
     "data": {
      "text/plain": [
       "[[1, 2, 3], [2, 1, 3], [3, 2, 1], [1, 3, 2], [3, 1, 2], [2, 3, 1]]"
      ]
     },
     "execution_count": 44,
     "metadata": {},
     "output_type": "execute_result"
    }
   ],
   "source": [
    "nums=[1,2,3]\n",
    "permute(nums)"
   ]
  },
  {
   "cell_type": "code",
   "execution_count": 42,
   "metadata": {},
   "outputs": [
    {
     "data": {
      "text/plain": [
       "1"
      ]
     },
     "execution_count": 42,
     "metadata": {},
     "output_type": "execute_result"
    }
   ],
   "source": [
    "len([nums])"
   ]
  },
  {
   "cell_type": "markdown",
   "metadata": {},
   "source": [
    "238\tProduct of Array Except Self    "
   ]
  },
  {
   "cell_type": "code",
   "execution_count": 17,
   "metadata": {},
   "outputs": [
    {
     "data": {
      "text/plain": [
       "[8, 12, 24, 6]"
      ]
     },
     "execution_count": 17,
     "metadata": {},
     "output_type": "execute_result"
    }
   ],
   "source": [
    "nums=[3,2,1,4]\n",
    "def product(nums):\n",
    "    p=1\n",
    "    res=[]\n",
    "    for i in range(len(nums)):\n",
    "        res.append(p)\n",
    "        p=p*nums[i]\n",
    "    p=1\n",
    "    for i in range(len(nums)-1,-1,-1):\n",
    "        res[i]=res[i]*p\n",
    "        p=p*nums[i]\n",
    "    return res\n",
    "   \n",
    "product(nums)"
   ]
  },
  {
   "cell_type": "markdown",
   "metadata": {},
   "source": [
    "61\tRotate List  "
   ]
  },
  {
   "cell_type": "markdown",
   "metadata": {},
   "source": [
    "33\tSearch in Rotated Sorted Array    "
   ]
  },
  {
   "cell_type": "code",
   "execution_count": 20,
   "metadata": {},
   "outputs": [
    {
     "data": {
      "text/plain": [
       "4"
      ]
     },
     "execution_count": 20,
     "metadata": {},
     "output_type": "execute_result"
    }
   ],
   "source": [
    "\n",
    "def search(nums,target):\n",
    "    \n",
    "    if not nums:\n",
    "            return -1\n",
    "    low,high=0,len(nums)-1\n",
    "    \n",
    "    while low<=high:\n",
    "        mid=(low+high)//2\n",
    "        if target==nums[mid]:\n",
    "            return mid\n",
    "        if nums[low]<=nums[mid]:\n",
    "            if nums[low]<=target<=nums[mid]:\n",
    "                high=mid-1\n",
    "            else:\n",
    "                low=mid+1\n",
    "        else:\n",
    "            if nums[mid]<=target<=nums[high]:\n",
    "                low=mid+1\n",
    "            else:\n",
    "                high=mid-1\n",
    "            \n",
    "    return -1\n",
    "\n",
    "nums = [4,5,6,7,0,1,2]\n",
    "target=0\n",
    "search(nums,target)"
   ]
  },
  {
   "cell_type": "markdown",
   "metadata": {},
   "source": [
    "148\tSort List    \t"
   ]
  },
  {
   "cell_type": "code",
   "execution_count": null,
   "metadata": {},
   "outputs": [],
   "source": []
  },
  {
   "cell_type": "markdown",
   "metadata": {},
   "source": [
    "54\tSpiral Matrix    "
   ]
  },
  {
   "cell_type": "code",
   "execution_count": 51,
   "metadata": {},
   "outputs": [],
   "source": [
    "matrix=[\n",
    " [ 1, 2, 3 ],\n",
    " [ 4, 5, 6 ],\n",
    " [ 7, 8, 9 ]\n",
    "]"
   ]
  },
  {
   "cell_type": "code",
   "execution_count": 52,
   "metadata": {
    "scrolled": true
   },
   "outputs": [
    {
     "data": {
      "text/plain": [
       "[1, 2, 3]"
      ]
     },
     "execution_count": 52,
     "metadata": {},
     "output_type": "execute_result"
    }
   ],
   "source": [
    "[*matrix.pop(0)]"
   ]
  },
  {
   "cell_type": "code",
   "execution_count": 53,
   "metadata": {},
   "outputs": [
    {
     "data": {
      "text/plain": [
       "[[4, 5, 6], [7, 8, 9]]"
      ]
     },
     "execution_count": 53,
     "metadata": {},
     "output_type": "execute_result"
    }
   ],
   "source": [
    "[(*matrix)]"
   ]
  },
  {
   "cell_type": "code",
   "execution_count": 54,
   "metadata": {},
   "outputs": [
    {
     "data": {
      "text/plain": [
       "[(4, 7), (5, 8), (6, 9)]"
      ]
     },
     "execution_count": 54,
     "metadata": {},
     "output_type": "execute_result"
    }
   ],
   "source": [
    "[*zip(*matrix)]"
   ]
  },
  {
   "cell_type": "code",
   "execution_count": 55,
   "metadata": {},
   "outputs": [
    {
     "data": {
      "text/plain": [
       "[(6, 9), (5, 8), (4, 7)]"
      ]
     },
     "execution_count": 55,
     "metadata": {},
     "output_type": "execute_result"
    }
   ],
   "source": [
    "[*zip(*matrix)][::-1]"
   ]
  },
  {
   "cell_type": "code",
   "execution_count": 43,
   "metadata": {},
   "outputs": [],
   "source": [
    "def spiralOrder(self,matrix):\n",
    "        \"\"\"\n",
    "        :type matrix: List[List[int]]\n",
    "        :rtype: List[int]\n",
    "        \"\"\"\n",
    "        return matrix and [*matrix.pop(0)] + self.spiralOrder([*zip(*matrix)][::-1])\n"
   ]
  },
  {
   "cell_type": "code",
   "execution_count": null,
   "metadata": {},
   "outputs": [],
   "source": []
  },
  {
   "cell_type": "code",
   "execution_count": 56,
   "metadata": {},
   "outputs": [
    {
     "data": {
      "text/plain": [
       "[[0, 0, 0], [0, 0, 0], [0, 0, 0]]"
      ]
     },
     "execution_count": 56,
     "metadata": {},
     "output_type": "execute_result"
    }
   ],
   "source": [
    "[[0 for i in range(3)]for j in range(3)]"
   ]
  },
  {
   "cell_type": "code",
   "execution_count": 80,
   "metadata": {},
   "outputs": [
    {
     "data": {
      "text/plain": [
       "[[(0, 0), (0, 1), (0, 2)], [(1, 0), (1, 1), (1, 2)], [(2, 0), (2, 1), (2, 2)]]"
      ]
     },
     "execution_count": 80,
     "metadata": {},
     "output_type": "execute_result"
    }
   ],
   "source": [
    "a=[[(i,j) for j in range(3)] for i in range(3)]\n",
    "a"
   ]
  },
  {
   "cell_type": "code",
   "execution_count": 95,
   "metadata": {},
   "outputs": [
    {
     "data": {
      "text/plain": [
       "[((1, 0), (2, 0)), ((1, 1), (2, 1)), ((1, 2), (2, 2))]"
      ]
     },
     "execution_count": 95,
     "metadata": {},
     "output_type": "execute_result"
    }
   ],
   "source": [
    "b=[ [(1, 0), (1, 1), (1, 2)], [(2, 0), (2, 1), (2, 2)]]\n",
    "[*zip(*b)]"
   ]
  },
  {
   "cell_type": "code",
   "execution_count": 96,
   "metadata": {},
   "outputs": [
    {
     "data": {
      "text/plain": [
       "[((1, 2), (2, 2)), ((1, 1), (2, 1)), ((1, 0), (2, 0))]"
      ]
     },
     "execution_count": 96,
     "metadata": {},
     "output_type": "execute_result"
    }
   ],
   "source": [
    "[*zip(*b)][::-1]"
   ]
  },
  {
   "cell_type": "markdown",
   "metadata": {},
   "source": [
    "59\tSpiral Matrix II \n",
    "\n",
    "[1 2 3\n",
    "\n",
    "8 9 4\n",
    "\n",
    "7 6 5]\n",
    "\n",
    "找到坐标顺序为（0,0）(0,1)(0,2)(1,2)(2,2)(2,1)(2,0)"
   ]
  },
  {
   "cell_type": "code",
   "execution_count": 107,
   "metadata": {},
   "outputs": [],
   "source": [
    "def generateMatrix(n):\n",
    "    result = [[0 for i in range(n)] for j in range(n)]\n",
    "    coord = [[(i,j) for j in range(n)] for i in range(n)]\n",
    "    \n",
    "    count = 1\n",
    "    while coord:\n",
    "        for x, y in coord.pop(0):\n",
    "            result[x][y] = count\n",
    "            count += 1\n",
    "        coord = zip(*coord)[::-1]\n",
    "\n",
    "    return result"
   ]
  },
  {
   "cell_type": "markdown",
   "metadata": {},
   "source": [
    "8\tString to Integer (atoi)    "
   ]
  },
  {
   "cell_type": "code",
   "execution_count": null,
   "metadata": {},
   "outputs": [],
   "source": []
  },
  {
   "cell_type": "markdown",
   "metadata": {},
   "source": [
    "78\tSubsets    "
   ]
  },
  {
   "cell_type": "code",
   "execution_count": 112,
   "metadata": {},
   "outputs": [
    {
     "data": {
      "text/plain": [
       "[[], [1], [2], [1, 2], [3], [1, 3], [2, 3], [1, 2, 3]]"
      ]
     },
     "execution_count": 112,
     "metadata": {},
     "output_type": "execute_result"
    }
   ],
   "source": [
    "nums=[1,2,3]\n",
    "result = [[]]\n",
    "for num in nums:\n",
    "    result += [i + [num] for i in result]\n",
    "\n",
    "result\n",
    "re"
   ]
  },
  {
   "cell_type": "markdown",
   "metadata": {},
   "source": [
    "62\tUnique Paths    "
   ]
  },
  {
   "cell_type": "code",
   "execution_count": 123,
   "metadata": {},
   "outputs": [],
   "source": [
    "def paths(m,n):\n",
    "    res=[[1 for i in range(n)] for j in range(m)]\n",
    "    for i in range(1,m):\n",
    "        for j in range(1,n):\n",
    "            res[i][j]=res[i-1][j]+res[i][j-1]\n",
    "    return res[-1][-1]"
   ]
  },
  {
   "cell_type": "code",
   "execution_count": 125,
   "metadata": {},
   "outputs": [
    {
     "data": {
      "text/plain": [
       "28"
      ]
     },
     "execution_count": 125,
     "metadata": {},
     "output_type": "execute_result"
    }
   ],
   "source": [
    "paths(7,3)"
   ]
  }
 ],
 "metadata": {
  "kernelspec": {
   "display_name": "Python 3",
   "language": "python",
   "name": "python3"
  },
  "language_info": {
   "codemirror_mode": {
    "name": "ipython",
    "version": 3
   },
   "file_extension": ".py",
   "mimetype": "text/x-python",
   "name": "python",
   "nbconvert_exporter": "python",
   "pygments_lexer": "ipython3",
   "version": "3.7.1"
  }
 },
 "nbformat": 4,
 "nbformat_minor": 2
}
