{
 "cells": [
  {
   "cell_type": "markdown",
   "metadata": {},
   "source": [
    "## wayfair"
   ]
  },
  {
   "cell_type": "markdown",
   "metadata": {},
   "source": [
    "41. First Missing Positive\n"
   ]
  },
  {
   "cell_type": "code",
   "execution_count": 42,
   "metadata": {},
   "outputs": [],
   "source": [
    "nums=[-1,-3]\n",
    "nums=[1,2,3]\n",
    "nums=[3,2,1,1,2]"
   ]
  },
  {
   "cell_type": "code",
   "execution_count": 45,
   "metadata": {},
   "outputs": [],
   "source": [
    "#O(nlogn)\n",
    "def firstMissingPositive(nums):\n",
    "    nums.sort()\n",
    "    res = 1\n",
    "    for num in nums:\n",
    "        if num == res:\n",
    "            res += 1\n",
    "    return res"
   ]
  },
  {
   "cell_type": "code",
   "execution_count": 46,
   "metadata": {},
   "outputs": [
    {
     "data": {
      "text/plain": [
       "4"
      ]
     },
     "execution_count": 46,
     "metadata": {},
     "output_type": "execute_result"
    }
   ],
   "source": [
    "firstMissingPositive(nums)"
   ]
  },
  {
   "cell_type": "code",
   "execution_count": null,
   "metadata": {},
   "outputs": [],
   "source": [
    "# O(n) time\n",
    "def firstMissingPositive(nums):\n",
    "    for i in xrange(len(nums)):\n",
    "        while 0 <= nums[i]-1 < len(nums) and nums[nums[i]-1] != nums[i]:\n",
    "            tmp = nums[i]-1\n",
    "            nums[i], nums[tmp] = nums[tmp], nums[i]\n",
    "    for i in xrange(len(nums)):\n",
    "        if nums[i] != i+1:\n",
    "            return i+1\n",
    "    return len(nums)+1"
   ]
  },
  {
   "cell_type": "markdown",
   "metadata": {},
   "source": [
    "1.two sum"
   ]
  },
  {
   "cell_type": "code",
   "execution_count": 23,
   "metadata": {},
   "outputs": [],
   "source": [
    "def twosum(nums,target):\n",
    "    s={}\n",
    "    for index,value in enumerate(nums):\n",
    "        if target-value not in s:\n",
    "            s[value]=index\n",
    "        else:\n",
    "            return [s[target-value],index]\n",
    "    "
   ]
  },
  {
   "cell_type": "code",
   "execution_count": 24,
   "metadata": {},
   "outputs": [
    {
     "data": {
      "text/plain": [
       "[0, 1]"
      ]
     },
     "execution_count": 24,
     "metadata": {},
     "output_type": "execute_result"
    }
   ],
   "source": [
    "twosum(nums,target)"
   ]
  },
  {
   "cell_type": "markdown",
   "metadata": {},
   "source": [
    "5. Longest Palindromic Substring"
   ]
  },
  {
   "cell_type": "code",
   "execution_count": 60,
   "metadata": {},
   "outputs": [
    {
     "data": {
      "text/plain": [
       "'bab'"
      ]
     },
     "execution_count": 60,
     "metadata": {},
     "output_type": "execute_result"
    }
   ],
   "source": [
    "def long(s):\n",
    "    ans = ''\n",
    "    max_len = 0\n",
    "    n = len(s)\n",
    "    DP = [[0] * n for _ in range(n)]\n",
    "    for i in range(n):\n",
    "        DP[i][i] = True\n",
    "        max_len = 1\n",
    "        ans = s[i]\n",
    "    for i in range(n-1):\n",
    "        if s[i] == s[i+1]:\n",
    "            DP[i][i+1] = True\n",
    "            ans = s[i:i+2]\n",
    "            max_len = 2\n",
    "    for j in range(2,n):\n",
    "        for i in range(0, j-1):\n",
    "            if s[i] == s[j] and DP[i+1][j-1]:\n",
    "                DP[i][j] = True\n",
    "                if max_len < j - i + 1:\n",
    "                    ans = s[i:j+1]\n",
    "                    max_len = j - i + 1\n",
    "    return ans\n",
    "s=\"babad\"\n",
    "long(s)"
   ]
  },
  {
   "cell_type": "markdown",
   "metadata": {},
   "source": [
    "53. Maximum Subarray"
   ]
  },
  {
   "cell_type": "code",
   "execution_count": 28,
   "metadata": {},
   "outputs": [
    {
     "data": {
      "text/plain": [
       "6"
      ]
     },
     "execution_count": 28,
     "metadata": {},
     "output_type": "execute_result"
    }
   ],
   "source": [
    "nums=[-2,1,-3,4,-1,2,1,-5,4]\n",
    "def maxsub(nums):\n",
    "    \n",
    "    for i in range(1,len(nums)):\n",
    "        nums[i]=max(nums[i-1]+nums[i],nums[i])\n",
    "    return max(nums)\n",
    "maxsub(nums)  "
   ]
  },
  {
   "cell_type": "markdown",
   "metadata": {},
   "source": [
    "412\tFizz Buzz"
   ]
  },
  {
   "cell_type": "code",
   "execution_count": 33,
   "metadata": {},
   "outputs": [
    {
     "data": {
      "text/plain": [
       "['1',\n",
       " '2',\n",
       " 'Fizz',\n",
       " '4',\n",
       " 'Buzz',\n",
       " 'Fizz',\n",
       " '7',\n",
       " '8',\n",
       " 'Fizz',\n",
       " 'Buzz',\n",
       " '11',\n",
       " 'Fizz',\n",
       " '13',\n",
       " '14',\n",
       " 'FizzBuzz']"
      ]
     },
     "execution_count": 33,
     "metadata": {},
     "output_type": "execute_result"
    }
   ],
   "source": [
    "def fizz(n):\n",
    "    res=[]\n",
    "    for i in range(1,n+1):\n",
    "        if i%15==0:\n",
    "            res.append(\"FizzBuzz\")\n",
    "        elif i%3==0 and i%15!=0:\n",
    "            res.append(\"Fizz\")\n",
    "        elif i%5==0 and i%15!=0:\n",
    "            res.append(\"Buzz\")\n",
    "        else:\n",
    "            res.append(str(i))\n",
    "    return res\n",
    "fizz(15)"
   ]
  },
  {
   "cell_type": "markdown",
   "metadata": {},
   "source": [
    "125. Valid Palindrome\n"
   ]
  },
  {
   "cell_type": "code",
   "execution_count": 36,
   "metadata": {},
   "outputs": [],
   "source": [
    "s=\"A man, a plan, a canal: Panama\"\n"
   ]
  },
  {
   "cell_type": "code",
   "execution_count": 38,
   "metadata": {},
   "outputs": [
    {
     "data": {
      "text/plain": [
       "True"
      ]
     },
     "execution_count": 38,
     "metadata": {},
     "output_type": "execute_result"
    }
   ],
   "source": [
    "def pali(s):\n",
    "    \n",
    "    if not s:\n",
    "        return 1\n",
    "    new=[v.lower() for v in s if v.isalnum()]\n",
    "    if new==new[::-1]:\n",
    "        return True\n",
    "    else:\n",
    "        return 0\n",
    "pali(s)"
   ]
  },
  {
   "cell_type": "markdown",
   "metadata": {},
   "source": [
    "443\tString Compression"
   ]
  },
  {
   "cell_type": "code",
   "execution_count": 55,
   "metadata": {},
   "outputs": [
    {
     "name": "stdout",
     "output_type": "stream",
     "text": [
      "6\n",
      "['a', '2', 'b', '2', 'c', '3']\n"
     ]
    }
   ],
   "source": [
    "def compress(s):\n",
    "    write,read=0,0\n",
    "    while read<len(s):\n",
    "        freq=1\n",
    "        k=read+1 #used to compare next element and current read element\n",
    "        while k<len(s) and s[k]==s[read]:\n",
    "            k+=1\n",
    "            freq+=1\n",
    "        s[write]=s[read]\n",
    "        \n",
    "        write+=1\n",
    "        if freq>1:\n",
    "            for number in str(freq):\n",
    "                s[write]=number\n",
    "                write+=1\n",
    "    \n",
    "        read=k\n",
    "    del s[write:]\n",
    "    return write\n",
    "\n",
    "s=[\"a\",\"a\",\"b\",\"b\",\"c\",\"c\",\"c\"]\n",
    "print(compress(s))\n",
    "print(s)    \n",
    "    "
   ]
  },
  {
   "cell_type": "markdown",
   "metadata": {},
   "source": [
    "167\tTwo Sum II - Input array is sorted"
   ]
  },
  {
   "cell_type": "code",
   "execution_count": 44,
   "metadata": {},
   "outputs": [
    {
     "data": {
      "text/plain": [
       "[1, 2]"
      ]
     },
     "execution_count": 44,
     "metadata": {},
     "output_type": "execute_result"
    }
   ],
   "source": [
    "def twoSum(numbers, target):\n",
    "        \"\"\"\n",
    "        :type numbers: List[int]\n",
    "        :type target: int\n",
    "        :rtype: List[int]\n",
    "        \"\"\"\n",
    "        dic={}\n",
    "        for i,num in enumerate(numbers):\n",
    "            if target-num not in dic:\n",
    "                dic[num]=i\n",
    "            else:\n",
    "                return [1+dic[target-num],1+i]\n",
    "numbers = [2,7,11,15]\n",
    "target = 9\n",
    "twoSum(numbers, target)"
   ]
  },
  {
   "cell_type": "code",
   "execution_count": 45,
   "metadata": {},
   "outputs": [
    {
     "data": {
      "text/plain": [
       "[1, 2]"
      ]
     },
     "execution_count": 45,
     "metadata": {},
     "output_type": "execute_result"
    }
   ],
   "source": [
    "def twoSum1(numbers, target):\n",
    "    l, r = 0, len(numbers)-1\n",
    "    while l < r:\n",
    "        s = numbers[l] + numbers[r]\n",
    "        if s == target:\n",
    "            return [l+1, r+1]\n",
    "        elif s < target:\n",
    "            l += 1\n",
    "        else:\n",
    "            r -= 1\n",
    "twoSum1(numbers, target)"
   ]
  },
  {
   "cell_type": "markdown",
   "metadata": {},
   "source": [
    "1014\tBest Sightseeing Pair"
   ]
  },
  {
   "cell_type": "code",
   "execution_count": 64,
   "metadata": {},
   "outputs": [
    {
     "data": {
      "text/plain": [
       "11"
      ]
     },
     "execution_count": 64,
     "metadata": {},
     "output_type": "execute_result"
    }
   ],
   "source": [
    "a=[8,1,5,2,6]\n",
    "def best(a):\n",
    "    best_i = 0\n",
    "    res = 0\n",
    "    for i, v in enumerate(a):\n",
    "        res = max(res, v - i + best_i)\n",
    "        best_i = max(best_i, v + i)\n",
    "    return res\n",
    "best(a)       "
   ]
  }
 ],
 "metadata": {
  "kernelspec": {
   "display_name": "Python 3",
   "language": "python",
   "name": "python3"
  },
  "language_info": {
   "codemirror_mode": {
    "name": "ipython",
    "version": 3
   },
   "file_extension": ".py",
   "mimetype": "text/x-python",
   "name": "python",
   "nbconvert_exporter": "python",
   "pygments_lexer": "ipython3",
   "version": "3.7.1"
  }
 },
 "nbformat": 4,
 "nbformat_minor": 2
}
